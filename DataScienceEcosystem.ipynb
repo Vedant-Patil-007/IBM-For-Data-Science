{
 "cells": [
  {
   "cell_type": "markdown",
   "id": "a3b1e8eb-afe3-4630-8aae-3d9f9354ecd1",
   "metadata": {},
   "source": [
    "<h1>Data Science Tools and Ecosystem</h1>"
   ]
  },
  {
   "cell_type": "markdown",
   "id": "637f95e0-2473-4506-9a14-1c6fc401b2f8",
   "metadata": {
    "tags": []
   },
   "source": [
    "In this notebook, Data Science Tools and Ecosystem are summarized.\n",
    "\n"
   ]
  },
  {
   "cell_type": "markdown",
   "id": "31e346d6-0388-4e9a-b837-e6edc8307958",
   "metadata": {},
   "source": [
    "Some of the popular languages that Data Scientists use are:\n",
    "1. Python\n",
    "2. R\n",
    "3. SQL\n"
   ]
  },
  {
   "cell_type": "markdown",
   "id": "b743aa6a-ca10-453b-bfcf-086f0225306e",
   "metadata": {},
   "source": [
    "Some of the commonly used libraries used by Data Scientists include:\n",
    "1. pandas\n",
    "2. numpy\n",
    "3. scikit-learn"
   ]
  },
  {
   "cell_type": "markdown",
   "id": "80148aee-a4e9-4f9b-8ab5-0159b9898de1",
   "metadata": {},
   "source": [
    "| Data Science Tools |\n",
    "|--------------------|\n",
    "| Jupyter Notebook   |\n",
    "| RStudio            |\n",
    "| Apache Zeppelin    |\n"
   ]
  },
  {
   "cell_type": "markdown",
   "id": "83ddad53-c1d7-457b-be8f-29f8a4fff5cd",
   "metadata": {},
   "source": [
    "### Below are a few examples of evaluating arithmetic expressions in Python.\n"
   ]
  },
  {
   "cell_type": "code",
   "execution_count": 4,
   "id": "5c015195-4dd8-4a1f-bbc8-56d4dc27f6f0",
   "metadata": {
    "tags": []
   },
   "outputs": [
    {
     "data": {
      "text/plain": [
       "17"
      ]
     },
     "execution_count": 4,
     "metadata": {},
     "output_type": "execute_result"
    }
   ],
   "source": [
    "# This is a simple arithmetic expression to multiply then add integers\n",
    "result = (3 * 4) + 5\n",
    "result\n"
   ]
  },
  {
   "cell_type": "code",
   "execution_count": 5,
   "id": "b1ddf39d-5046-4c0a-a02a-60fa74b7eb7c",
   "metadata": {
    "tags": []
   },
   "outputs": [
    {
     "data": {
      "text/plain": [
       "3.3333333333333335"
      ]
     },
     "execution_count": 5,
     "metadata": {},
     "output_type": "execute_result"
    }
   ],
   "source": [
    "# This will convert 200 minutes to hours by dividing by 60\n",
    "minutes = 200\n",
    "hours = minutes / 60\n",
    "hours\n"
   ]
  },
  {
   "cell_type": "markdown",
   "id": "21614f8f-4a71-4bd9-a808-39a8a189b2ff",
   "metadata": {},
   "source": [
    "**Objectives:**\n",
    "- List popular languages for Data Science.\n",
    "- List popular libraries for Data Science.\n",
    "- Provide a summary of Data Science tools.\n",
    "- Demonstrate simple arithmetic operations in Python.\n",
    "- Convert time units using Python.\n"
   ]
  },
  {
   "cell_type": "markdown",
   "id": "64a13114-8230-42d0-b679-87a865292bf7",
   "metadata": {},
   "source": [
    "## Author\n",
    "Vedant Patil\n"
   ]
  },
  {
   "cell_type": "code",
   "execution_count": null,
   "id": "317c07e5-9bb0-4bc9-8f30-00c5cbb85265",
   "metadata": {},
   "outputs": [],
   "source": []
  }
 ],
 "metadata": {
  "kernelspec": {
   "display_name": "Python",
   "language": "python",
   "name": "conda-env-python-py"
  },
  "language_info": {
   "codemirror_mode": {
    "name": "ipython",
    "version": 3
   },
   "file_extension": ".py",
   "mimetype": "text/x-python",
   "name": "python",
   "nbconvert_exporter": "python",
   "pygments_lexer": "ipython3",
   "version": "3.7.12"
  }
 },
 "nbformat": 4,
 "nbformat_minor": 5
}
